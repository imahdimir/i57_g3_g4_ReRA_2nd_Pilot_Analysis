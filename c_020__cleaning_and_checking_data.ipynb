{
 "cells": [
  {
   "cell_type": "code",
   "execution_count": 16,
   "id": "db5a2fd10d44a7d4",
   "metadata": {
    "ExecuteTime": {
     "end_time": "2025-07-07T00:52:00.526004Z",
     "start_time": "2025-07-07T00:52:00.517660Z"
    }
   },
   "outputs": [],
   "source": [
    "import pandas as pd\n",
    "from i7_hot_reload.hot_reload import hot_reload_a_module_from_cwd\n",
    "\n",
    "\n",
    "b_000_env = hot_reload_a_module_from_cwd('b_000_env')\n",
    "\n",
    "from b_000_env import Directory\n",
    "from b_000_env import FilePath\n",
    "from b_000_env import Constants\n",
    "\n",
    "\n",
    "d = Directory()\n",
    "fp = FilePath()\n",
    "c = Constants()"
   ]
  },
  {
   "cell_type": "markdown",
   "id": "9675a45992d84862",
   "metadata": {},
   "source": [
    "# READ RAW DATA\n",
    "## APPS WIDE DATA - DATA FROM OTREE"
   ]
  },
  {
   "cell_type": "code",
   "execution_count": 17,
   "id": "b268712470495ee4",
   "metadata": {
    "ExecuteTime": {
     "end_time": "2025-07-07T00:24:53.188033Z",
     "start_time": "2025-07-07T00:24:53.152514Z"
    }
   },
   "outputs": [
    {
     "name": "stdout",
     "output_type": "stream",
     "text": [
      "(300, 296)\n"
     ]
    },
    {
     "data": {
      "text/html": [
       "<div>\n",
       "<style scoped>\n",
       "    .dataframe tbody tr th:only-of-type {\n",
       "        vertical-align: middle;\n",
       "    }\n",
       "\n",
       "    .dataframe tbody tr th {\n",
       "        vertical-align: top;\n",
       "    }\n",
       "\n",
       "    .dataframe thead th {\n",
       "        text-align: right;\n",
       "    }\n",
       "</style>\n",
       "<table border=\"1\" class=\"dataframe\">\n",
       "  <thead>\n",
       "    <tr style=\"text-align: right;\">\n",
       "      <th></th>\n",
       "      <th>participant.id_in_session</th>\n",
       "      <th>participant.code</th>\n",
       "      <th>participant.label</th>\n",
       "      <th>participant._is_bot</th>\n",
       "      <th>participant._index_in_pages</th>\n",
       "      <th>participant._max_page_index</th>\n",
       "      <th>participant._current_app_name</th>\n",
       "      <th>participant._current_page_name</th>\n",
       "      <th>participant.time_started_utc</th>\n",
       "      <th>participant.visited</th>\n",
       "      <th>...</th>\n",
       "      <th>EndAndPayment.1.player.payoff</th>\n",
       "      <th>EndAndPayment.1.player.PairwisePaymentPage_timestamp</th>\n",
       "      <th>EndAndPayment.1.player.NodewisePaymentPage_timestamp</th>\n",
       "      <th>EndAndPayment.1.player.ThanksPage_timestamp</th>\n",
       "      <th>EndAndPayment.1.player.lottery</th>\n",
       "      <th>EndAndPayment.1.player.final_payment</th>\n",
       "      <th>EndAndPayment.1.player.recon_choice</th>\n",
       "      <th>EndAndPayment.1.player.comment</th>\n",
       "      <th>EndAndPayment.1.group.id_in_subsession</th>\n",
       "      <th>EndAndPayment.1.subsession.round_number</th>\n",
       "    </tr>\n",
       "  </thead>\n",
       "  <tbody>\n",
       "    <tr>\n",
       "      <th>0</th>\n",
       "      <td>1</td>\n",
       "      <td>xjulaqnt</td>\n",
       "      <td>NaN</td>\n",
       "      <td>0</td>\n",
       "      <td>1</td>\n",
       "      <td>33</td>\n",
       "      <td>Introduction</td>\n",
       "      <td>Introduction</td>\n",
       "      <td>2025-02-11 15:47:47.700346</td>\n",
       "      <td>1</td>\n",
       "      <td>...</td>\n",
       "      <td>0.0</td>\n",
       "      <td>0</td>\n",
       "      <td>0</td>\n",
       "      <td>0</td>\n",
       "      <td>NaN</td>\n",
       "      <td>NaN</td>\n",
       "      <td>NaN</td>\n",
       "      <td>NaN</td>\n",
       "      <td>1</td>\n",
       "      <td>1</td>\n",
       "    </tr>\n",
       "    <tr>\n",
       "      <th>1</th>\n",
       "      <td>2</td>\n",
       "      <td>vc2z1rqk</td>\n",
       "      <td>NaN</td>\n",
       "      <td>0</td>\n",
       "      <td>33</td>\n",
       "      <td>33</td>\n",
       "      <td>EndAndPayment</td>\n",
       "      <td>ThanksPage</td>\n",
       "      <td>2025-02-11 16:05:37.167970</td>\n",
       "      <td>1</td>\n",
       "      <td>...</td>\n",
       "      <td>0.0</td>\n",
       "      <td>0</td>\n",
       "      <td>0</td>\n",
       "      <td>1739290857611</td>\n",
       "      <td>NaN</td>\n",
       "      <td>NaN</td>\n",
       "      <td>NaN</td>\n",
       "      <td>NaN</td>\n",
       "      <td>1</td>\n",
       "      <td>1</td>\n",
       "    </tr>\n",
       "    <tr>\n",
       "      <th>2</th>\n",
       "      <td>3</td>\n",
       "      <td>kb6n7gdo</td>\n",
       "      <td>NaN</td>\n",
       "      <td>0</td>\n",
       "      <td>33</td>\n",
       "      <td>33</td>\n",
       "      <td>EndAndPayment</td>\n",
       "      <td>ThanksPage</td>\n",
       "      <td>2025-02-11 18:21:57.987464</td>\n",
       "      <td>1</td>\n",
       "      <td>...</td>\n",
       "      <td>0.0</td>\n",
       "      <td>0</td>\n",
       "      <td>0</td>\n",
       "      <td>1739299111412</td>\n",
       "      <td>NaN</td>\n",
       "      <td>NaN</td>\n",
       "      <td>NaN</td>\n",
       "      <td>NaN</td>\n",
       "      <td>1</td>\n",
       "      <td>1</td>\n",
       "    </tr>\n",
       "    <tr>\n",
       "      <th>3</th>\n",
       "      <td>4</td>\n",
       "      <td>4ehzz2gc</td>\n",
       "      <td>NaN</td>\n",
       "      <td>0</td>\n",
       "      <td>33</td>\n",
       "      <td>33</td>\n",
       "      <td>EndAndPayment</td>\n",
       "      <td>ThanksPage</td>\n",
       "      <td>2025-02-11 18:32:54.168255</td>\n",
       "      <td>1</td>\n",
       "      <td>...</td>\n",
       "      <td>0.0</td>\n",
       "      <td>0</td>\n",
       "      <td>0</td>\n",
       "      <td>1739299885508</td>\n",
       "      <td>NaN</td>\n",
       "      <td>NaN</td>\n",
       "      <td>NaN</td>\n",
       "      <td>NaN</td>\n",
       "      <td>1</td>\n",
       "      <td>1</td>\n",
       "    </tr>\n",
       "    <tr>\n",
       "      <th>4</th>\n",
       "      <td>5</td>\n",
       "      <td>t6jmltim</td>\n",
       "      <td>NaN</td>\n",
       "      <td>0</td>\n",
       "      <td>33</td>\n",
       "      <td>33</td>\n",
       "      <td>EndAndPayment</td>\n",
       "      <td>ThanksPage</td>\n",
       "      <td>2025-02-11 18:49:17.748246</td>\n",
       "      <td>1</td>\n",
       "      <td>...</td>\n",
       "      <td>0.0</td>\n",
       "      <td>0</td>\n",
       "      <td>0</td>\n",
       "      <td>1739301525273</td>\n",
       "      <td>NaN</td>\n",
       "      <td>NaN</td>\n",
       "      <td>NaN</td>\n",
       "      <td>NaN</td>\n",
       "      <td>1</td>\n",
       "      <td>1</td>\n",
       "    </tr>\n",
       "    <tr>\n",
       "      <th>...</th>\n",
       "      <td>...</td>\n",
       "      <td>...</td>\n",
       "      <td>...</td>\n",
       "      <td>...</td>\n",
       "      <td>...</td>\n",
       "      <td>...</td>\n",
       "      <td>...</td>\n",
       "      <td>...</td>\n",
       "      <td>...</td>\n",
       "      <td>...</td>\n",
       "      <td>...</td>\n",
       "      <td>...</td>\n",
       "      <td>...</td>\n",
       "      <td>...</td>\n",
       "      <td>...</td>\n",
       "      <td>...</td>\n",
       "      <td>...</td>\n",
       "      <td>...</td>\n",
       "      <td>...</td>\n",
       "      <td>...</td>\n",
       "      <td>...</td>\n",
       "    </tr>\n",
       "    <tr>\n",
       "      <th>295</th>\n",
       "      <td>46</td>\n",
       "      <td>ghn274vj</td>\n",
       "      <td>NaN</td>\n",
       "      <td>0</td>\n",
       "      <td>0</td>\n",
       "      <td>24</td>\n",
       "      <td>NaN</td>\n",
       "      <td>NaN</td>\n",
       "      <td>NaN</td>\n",
       "      <td>0</td>\n",
       "      <td>...</td>\n",
       "      <td>0.0</td>\n",
       "      <td>0</td>\n",
       "      <td>0</td>\n",
       "      <td>0</td>\n",
       "      <td>NaN</td>\n",
       "      <td>NaN</td>\n",
       "      <td>NaN</td>\n",
       "      <td>NaN</td>\n",
       "      <td>1</td>\n",
       "      <td>1</td>\n",
       "    </tr>\n",
       "    <tr>\n",
       "      <th>296</th>\n",
       "      <td>47</td>\n",
       "      <td>eg10g7dm</td>\n",
       "      <td>NaN</td>\n",
       "      <td>0</td>\n",
       "      <td>0</td>\n",
       "      <td>24</td>\n",
       "      <td>NaN</td>\n",
       "      <td>NaN</td>\n",
       "      <td>NaN</td>\n",
       "      <td>0</td>\n",
       "      <td>...</td>\n",
       "      <td>0.0</td>\n",
       "      <td>0</td>\n",
       "      <td>0</td>\n",
       "      <td>0</td>\n",
       "      <td>NaN</td>\n",
       "      <td>NaN</td>\n",
       "      <td>NaN</td>\n",
       "      <td>NaN</td>\n",
       "      <td>1</td>\n",
       "      <td>1</td>\n",
       "    </tr>\n",
       "    <tr>\n",
       "      <th>297</th>\n",
       "      <td>48</td>\n",
       "      <td>qwtww654</td>\n",
       "      <td>NaN</td>\n",
       "      <td>0</td>\n",
       "      <td>0</td>\n",
       "      <td>24</td>\n",
       "      <td>NaN</td>\n",
       "      <td>NaN</td>\n",
       "      <td>NaN</td>\n",
       "      <td>0</td>\n",
       "      <td>...</td>\n",
       "      <td>0.0</td>\n",
       "      <td>0</td>\n",
       "      <td>0</td>\n",
       "      <td>0</td>\n",
       "      <td>NaN</td>\n",
       "      <td>NaN</td>\n",
       "      <td>NaN</td>\n",
       "      <td>NaN</td>\n",
       "      <td>1</td>\n",
       "      <td>1</td>\n",
       "    </tr>\n",
       "    <tr>\n",
       "      <th>298</th>\n",
       "      <td>49</td>\n",
       "      <td>a9kjg90t</td>\n",
       "      <td>NaN</td>\n",
       "      <td>0</td>\n",
       "      <td>0</td>\n",
       "      <td>24</td>\n",
       "      <td>NaN</td>\n",
       "      <td>NaN</td>\n",
       "      <td>NaN</td>\n",
       "      <td>0</td>\n",
       "      <td>...</td>\n",
       "      <td>0.0</td>\n",
       "      <td>0</td>\n",
       "      <td>0</td>\n",
       "      <td>0</td>\n",
       "      <td>NaN</td>\n",
       "      <td>NaN</td>\n",
       "      <td>NaN</td>\n",
       "      <td>NaN</td>\n",
       "      <td>1</td>\n",
       "      <td>1</td>\n",
       "    </tr>\n",
       "    <tr>\n",
       "      <th>299</th>\n",
       "      <td>50</td>\n",
       "      <td>hu3hdn4l</td>\n",
       "      <td>NaN</td>\n",
       "      <td>0</td>\n",
       "      <td>0</td>\n",
       "      <td>24</td>\n",
       "      <td>NaN</td>\n",
       "      <td>NaN</td>\n",
       "      <td>NaN</td>\n",
       "      <td>0</td>\n",
       "      <td>...</td>\n",
       "      <td>0.0</td>\n",
       "      <td>0</td>\n",
       "      <td>0</td>\n",
       "      <td>0</td>\n",
       "      <td>NaN</td>\n",
       "      <td>NaN</td>\n",
       "      <td>NaN</td>\n",
       "      <td>NaN</td>\n",
       "      <td>1</td>\n",
       "      <td>1</td>\n",
       "    </tr>\n",
       "  </tbody>\n",
       "</table>\n",
       "<p>300 rows × 296 columns</p>\n",
       "</div>"
      ],
      "text/plain": [
       "     participant.id_in_session participant.code  participant.label  \\\n",
       "0                            1         xjulaqnt                NaN   \n",
       "1                            2         vc2z1rqk                NaN   \n",
       "2                            3         kb6n7gdo                NaN   \n",
       "3                            4         4ehzz2gc                NaN   \n",
       "4                            5         t6jmltim                NaN   \n",
       "..                         ...              ...                ...   \n",
       "295                         46         ghn274vj                NaN   \n",
       "296                         47         eg10g7dm                NaN   \n",
       "297                         48         qwtww654                NaN   \n",
       "298                         49         a9kjg90t                NaN   \n",
       "299                         50         hu3hdn4l                NaN   \n",
       "\n",
       "     participant._is_bot  participant._index_in_pages  \\\n",
       "0                      0                            1   \n",
       "1                      0                           33   \n",
       "2                      0                           33   \n",
       "3                      0                           33   \n",
       "4                      0                           33   \n",
       "..                   ...                          ...   \n",
       "295                    0                            0   \n",
       "296                    0                            0   \n",
       "297                    0                            0   \n",
       "298                    0                            0   \n",
       "299                    0                            0   \n",
       "\n",
       "     participant._max_page_index participant._current_app_name  \\\n",
       "0                             33                  Introduction   \n",
       "1                             33                 EndAndPayment   \n",
       "2                             33                 EndAndPayment   \n",
       "3                             33                 EndAndPayment   \n",
       "4                             33                 EndAndPayment   \n",
       "..                           ...                           ...   \n",
       "295                           24                           NaN   \n",
       "296                           24                           NaN   \n",
       "297                           24                           NaN   \n",
       "298                           24                           NaN   \n",
       "299                           24                           NaN   \n",
       "\n",
       "    participant._current_page_name participant.time_started_utc  \\\n",
       "0                     Introduction   2025-02-11 15:47:47.700346   \n",
       "1                       ThanksPage   2025-02-11 16:05:37.167970   \n",
       "2                       ThanksPage   2025-02-11 18:21:57.987464   \n",
       "3                       ThanksPage   2025-02-11 18:32:54.168255   \n",
       "4                       ThanksPage   2025-02-11 18:49:17.748246   \n",
       "..                             ...                          ...   \n",
       "295                            NaN                          NaN   \n",
       "296                            NaN                          NaN   \n",
       "297                            NaN                          NaN   \n",
       "298                            NaN                          NaN   \n",
       "299                            NaN                          NaN   \n",
       "\n",
       "     participant.visited  ...  EndAndPayment.1.player.payoff  \\\n",
       "0                      1  ...                            0.0   \n",
       "1                      1  ...                            0.0   \n",
       "2                      1  ...                            0.0   \n",
       "3                      1  ...                            0.0   \n",
       "4                      1  ...                            0.0   \n",
       "..                   ...  ...                            ...   \n",
       "295                    0  ...                            0.0   \n",
       "296                    0  ...                            0.0   \n",
       "297                    0  ...                            0.0   \n",
       "298                    0  ...                            0.0   \n",
       "299                    0  ...                            0.0   \n",
       "\n",
       "     EndAndPayment.1.player.PairwisePaymentPage_timestamp  \\\n",
       "0                                                    0      \n",
       "1                                                    0      \n",
       "2                                                    0      \n",
       "3                                                    0      \n",
       "4                                                    0      \n",
       "..                                                 ...      \n",
       "295                                                  0      \n",
       "296                                                  0      \n",
       "297                                                  0      \n",
       "298                                                  0      \n",
       "299                                                  0      \n",
       "\n",
       "     EndAndPayment.1.player.NodewisePaymentPage_timestamp  \\\n",
       "0                                                    0      \n",
       "1                                                    0      \n",
       "2                                                    0      \n",
       "3                                                    0      \n",
       "4                                                    0      \n",
       "..                                                 ...      \n",
       "295                                                  0      \n",
       "296                                                  0      \n",
       "297                                                  0      \n",
       "298                                                  0      \n",
       "299                                                  0      \n",
       "\n",
       "     EndAndPayment.1.player.ThanksPage_timestamp  \\\n",
       "0                                              0   \n",
       "1                                  1739290857611   \n",
       "2                                  1739299111412   \n",
       "3                                  1739299885508   \n",
       "4                                  1739301525273   \n",
       "..                                           ...   \n",
       "295                                            0   \n",
       "296                                            0   \n",
       "297                                            0   \n",
       "298                                            0   \n",
       "299                                            0   \n",
       "\n",
       "    EndAndPayment.1.player.lottery EndAndPayment.1.player.final_payment  \\\n",
       "0                              NaN                                  NaN   \n",
       "1                              NaN                                  NaN   \n",
       "2                              NaN                                  NaN   \n",
       "3                              NaN                                  NaN   \n",
       "4                              NaN                                  NaN   \n",
       "..                             ...                                  ...   \n",
       "295                            NaN                                  NaN   \n",
       "296                            NaN                                  NaN   \n",
       "297                            NaN                                  NaN   \n",
       "298                            NaN                                  NaN   \n",
       "299                            NaN                                  NaN   \n",
       "\n",
       "    EndAndPayment.1.player.recon_choice  EndAndPayment.1.player.comment  \\\n",
       "0                                   NaN                             NaN   \n",
       "1                                   NaN                             NaN   \n",
       "2                                   NaN                             NaN   \n",
       "3                                   NaN                             NaN   \n",
       "4                                   NaN                             NaN   \n",
       "..                                  ...                             ...   \n",
       "295                                 NaN                             NaN   \n",
       "296                                 NaN                             NaN   \n",
       "297                                 NaN                             NaN   \n",
       "298                                 NaN                             NaN   \n",
       "299                                 NaN                             NaN   \n",
       "\n",
       "    EndAndPayment.1.group.id_in_subsession  \\\n",
       "0                                        1   \n",
       "1                                        1   \n",
       "2                                        1   \n",
       "3                                        1   \n",
       "4                                        1   \n",
       "..                                     ...   \n",
       "295                                      1   \n",
       "296                                      1   \n",
       "297                                      1   \n",
       "298                                      1   \n",
       "299                                      1   \n",
       "\n",
       "    EndAndPayment.1.subsession.round_number  \n",
       "0                                         1  \n",
       "1                                         1  \n",
       "2                                         1  \n",
       "3                                         1  \n",
       "4                                         1  \n",
       "..                                      ...  \n",
       "295                                       1  \n",
       "296                                       1  \n",
       "297                                       1  \n",
       "298                                       1  \n",
       "299                                       1  \n",
       "\n",
       "[300 rows x 296 columns]"
      ]
     },
     "execution_count": 17,
     "metadata": {},
     "output_type": "execute_result"
    }
   ],
   "source": [
    "df_apps_wide__raw = pd.read_csv(fp.all_apps_wide_csv_250301)\n",
    "print(df_apps_wide__raw.shape)\n",
    "df_apps_wide__raw"
   ]
  },
  {
   "cell_type": "markdown",
   "id": "5eba659c828d6e3c",
   "metadata": {},
   "source": [
    "## FINAL PAYMENTS DATA - DATA FROM MTURK FINAL PAYMENTS EXCEL FILE"
   ]
  },
  {
   "cell_type": "code",
   "execution_count": 18,
   "id": "bd255d63f98a929a",
   "metadata": {
    "ExecuteTime": {
     "end_time": "2025-07-07T00:24:54.146257Z",
     "start_time": "2025-07-07T00:24:54.107338Z"
    }
   },
   "outputs": [
    {
     "name": "stdout",
     "output_type": "stream",
     "text": [
      "(48, 5)\n"
     ]
    },
    {
     "data": {
      "text/html": [
       "<div>\n",
       "<style scoped>\n",
       "    .dataframe tbody tr th:only-of-type {\n",
       "        vertical-align: middle;\n",
       "    }\n",
       "\n",
       "    .dataframe tbody tr th {\n",
       "        vertical-align: top;\n",
       "    }\n",
       "\n",
       "    .dataframe thead th {\n",
       "        text-align: right;\n",
       "    }\n",
       "</style>\n",
       "<table border=\"1\" class=\"dataframe\">\n",
       "  <thead>\n",
       "    <tr style=\"text-align: right;\">\n",
       "      <th></th>\n",
       "      <th>workerId</th>\n",
       "      <th>Track</th>\n",
       "      <th>Base</th>\n",
       "      <th>Bonus</th>\n",
       "      <th>Total</th>\n",
       "    </tr>\n",
       "  </thead>\n",
       "  <tbody>\n",
       "    <tr>\n",
       "      <th>0</th>\n",
       "      <td>A3CMWYLWMENHLZ</td>\n",
       "      <td>CSI</td>\n",
       "      <td>1.6</td>\n",
       "      <td>1.6</td>\n",
       "      <td>3.20</td>\n",
       "    </tr>\n",
       "    <tr>\n",
       "      <th>1</th>\n",
       "      <td>A2FB5UQTR3E0NX</td>\n",
       "      <td>CSI</td>\n",
       "      <td>1.6</td>\n",
       "      <td>5.6</td>\n",
       "      <td>7.20</td>\n",
       "    </tr>\n",
       "    <tr>\n",
       "      <th>2</th>\n",
       "      <td>A3K1JTEB70E4FV</td>\n",
       "      <td>CSI</td>\n",
       "      <td>1.6</td>\n",
       "      <td>5.6</td>\n",
       "      <td>7.20</td>\n",
       "    </tr>\n",
       "    <tr>\n",
       "      <th>3</th>\n",
       "      <td>A1O4W7F05T6HY0</td>\n",
       "      <td>CSI</td>\n",
       "      <td>1.6</td>\n",
       "      <td>0</td>\n",
       "      <td>1.60</td>\n",
       "    </tr>\n",
       "    <tr>\n",
       "      <th>4</th>\n",
       "      <td>A37SLQRKOALNV6</td>\n",
       "      <td>CSI</td>\n",
       "      <td>1.6</td>\n",
       "      <td>5.6</td>\n",
       "      <td>7.20</td>\n",
       "    </tr>\n",
       "    <tr>\n",
       "      <th>5</th>\n",
       "      <td>A36470UBRH28GO</td>\n",
       "      <td>CSI</td>\n",
       "      <td>1.6</td>\n",
       "      <td>1.6</td>\n",
       "      <td>3.20</td>\n",
       "    </tr>\n",
       "    <tr>\n",
       "      <th>6</th>\n",
       "      <td>A3TDPXTB6Y6H1I</td>\n",
       "      <td>CSI</td>\n",
       "      <td>1.6</td>\n",
       "      <td>1.6</td>\n",
       "      <td>3.20</td>\n",
       "    </tr>\n",
       "    <tr>\n",
       "      <th>7</th>\n",
       "      <td>A3HSONMX6LNZR4</td>\n",
       "      <td>CSI</td>\n",
       "      <td>1.6</td>\n",
       "      <td>5.6</td>\n",
       "      <td>7.20</td>\n",
       "    </tr>\n",
       "    <tr>\n",
       "      <th>8</th>\n",
       "      <td>A34EHWOYRBL6OZ</td>\n",
       "      <td>TSI</td>\n",
       "      <td>1.6</td>\n",
       "      <td>0.95</td>\n",
       "      <td>2.55</td>\n",
       "    </tr>\n",
       "    <tr>\n",
       "      <th>9</th>\n",
       "      <td>A2FFMN0E9IUKQ6</td>\n",
       "      <td>TSI</td>\n",
       "      <td>1.6</td>\n",
       "      <td>1.15</td>\n",
       "      <td>2.75</td>\n",
       "    </tr>\n",
       "    <tr>\n",
       "      <th>10</th>\n",
       "      <td>A1K4NWMRGD2VE0</td>\n",
       "      <td>TSI</td>\n",
       "      <td>1.6</td>\n",
       "      <td>0.75</td>\n",
       "      <td>2.35</td>\n",
       "    </tr>\n",
       "    <tr>\n",
       "      <th>11</th>\n",
       "      <td>A2E6Z6NDAES26P</td>\n",
       "      <td>TSI</td>\n",
       "      <td>1.6</td>\n",
       "      <td>0.95</td>\n",
       "      <td>2.55</td>\n",
       "    </tr>\n",
       "    <tr>\n",
       "      <th>12</th>\n",
       "      <td>ADKJBYY9Q3VNZ</td>\n",
       "      <td>TSI</td>\n",
       "      <td>1.6</td>\n",
       "      <td>0.65</td>\n",
       "      <td>2.25</td>\n",
       "    </tr>\n",
       "    <tr>\n",
       "      <th>13</th>\n",
       "      <td>A2XFO0X6RCS98M</td>\n",
       "      <td>CL</td>\n",
       "      <td>3.2</td>\n",
       "      <td>0</td>\n",
       "      <td>3.20</td>\n",
       "    </tr>\n",
       "    <tr>\n",
       "      <th>14</th>\n",
       "      <td>A1A86H96OJ6PI8</td>\n",
       "      <td>CL</td>\n",
       "      <td>3.2</td>\n",
       "      <td>0</td>\n",
       "      <td>3.20</td>\n",
       "    </tr>\n",
       "    <tr>\n",
       "      <th>15</th>\n",
       "      <td>A2EM7RPFW3DU9N</td>\n",
       "      <td>CL</td>\n",
       "      <td>3.2</td>\n",
       "      <td>0</td>\n",
       "      <td>3.20</td>\n",
       "    </tr>\n",
       "    <tr>\n",
       "      <th>16</th>\n",
       "      <td>A3VFKBRFHGVF0G</td>\n",
       "      <td>CL</td>\n",
       "      <td>3.2</td>\n",
       "      <td>0</td>\n",
       "      <td>3.20</td>\n",
       "    </tr>\n",
       "    <tr>\n",
       "      <th>17</th>\n",
       "      <td>A1LII4M7CS6C9I</td>\n",
       "      <td>CL</td>\n",
       "      <td>3.2</td>\n",
       "      <td>0</td>\n",
       "      <td>3.20</td>\n",
       "    </tr>\n",
       "    <tr>\n",
       "      <th>18</th>\n",
       "      <td>A1TXCO12MCTP8P</td>\n",
       "      <td>CL</td>\n",
       "      <td>3.2</td>\n",
       "      <td>0</td>\n",
       "      <td>3.20</td>\n",
       "    </tr>\n",
       "    <tr>\n",
       "      <th>19</th>\n",
       "      <td>A5XQ30GQTHHK6</td>\n",
       "      <td>CL</td>\n",
       "      <td>3.2</td>\n",
       "      <td>0</td>\n",
       "      <td>3.20</td>\n",
       "    </tr>\n",
       "    <tr>\n",
       "      <th>20</th>\n",
       "      <td>A1X9RXT7MI571</td>\n",
       "      <td>CL</td>\n",
       "      <td>3.2</td>\n",
       "      <td>0</td>\n",
       "      <td>3.20</td>\n",
       "    </tr>\n",
       "    <tr>\n",
       "      <th>21</th>\n",
       "      <td>A2GMCWY993EEYE</td>\n",
       "      <td>CL</td>\n",
       "      <td>3.2</td>\n",
       "      <td>0</td>\n",
       "      <td>3.20</td>\n",
       "    </tr>\n",
       "    <tr>\n",
       "      <th>22</th>\n",
       "      <td>A114W7WQSH1UK8</td>\n",
       "      <td>CL</td>\n",
       "      <td>3.2</td>\n",
       "      <td>0</td>\n",
       "      <td>3.20</td>\n",
       "    </tr>\n",
       "    <tr>\n",
       "      <th>23</th>\n",
       "      <td>AXDISUCRP4FPO</td>\n",
       "      <td>CL</td>\n",
       "      <td>3.2</td>\n",
       "      <td>0</td>\n",
       "      <td>3.20</td>\n",
       "    </tr>\n",
       "    <tr>\n",
       "      <th>24</th>\n",
       "      <td>A1BHINLXH3E2GJ</td>\n",
       "      <td>CL</td>\n",
       "      <td>3.2</td>\n",
       "      <td>0</td>\n",
       "      <td>3.20</td>\n",
       "    </tr>\n",
       "    <tr>\n",
       "      <th>25</th>\n",
       "      <td>AO71E3MTYDM8L</td>\n",
       "      <td>CL</td>\n",
       "      <td>3.2</td>\n",
       "      <td>0</td>\n",
       "      <td>3.20</td>\n",
       "    </tr>\n",
       "    <tr>\n",
       "      <th>26</th>\n",
       "      <td>A2JJIYN79SQWT7</td>\n",
       "      <td>TL</td>\n",
       "      <td>3.2</td>\n",
       "      <td>0</td>\n",
       "      <td>3.20</td>\n",
       "    </tr>\n",
       "    <tr>\n",
       "      <th>27</th>\n",
       "      <td>A2BABL5AHUOYC7</td>\n",
       "      <td>TL</td>\n",
       "      <td>3.2</td>\n",
       "      <td>0</td>\n",
       "      <td>3.20</td>\n",
       "    </tr>\n",
       "    <tr>\n",
       "      <th>28</th>\n",
       "      <td>A12YGHUPJN155L</td>\n",
       "      <td>TL</td>\n",
       "      <td>3.2</td>\n",
       "      <td>0</td>\n",
       "      <td>3.20</td>\n",
       "    </tr>\n",
       "    <tr>\n",
       "      <th>29</th>\n",
       "      <td>A34670P3YNB95Z</td>\n",
       "      <td>TL</td>\n",
       "      <td>3.2</td>\n",
       "      <td>0</td>\n",
       "      <td>3.20</td>\n",
       "    </tr>\n",
       "    <tr>\n",
       "      <th>30</th>\n",
       "      <td>A2YO837C0O1E91</td>\n",
       "      <td>TL</td>\n",
       "      <td>3.2</td>\n",
       "      <td>0</td>\n",
       "      <td>3.20</td>\n",
       "    </tr>\n",
       "    <tr>\n",
       "      <th>31</th>\n",
       "      <td>A38OPVI04AH4JG</td>\n",
       "      <td>TL</td>\n",
       "      <td>3.2</td>\n",
       "      <td>0</td>\n",
       "      <td>3.20</td>\n",
       "    </tr>\n",
       "    <tr>\n",
       "      <th>32</th>\n",
       "      <td>A15GDVKMYRUPRC</td>\n",
       "      <td>CSN</td>\n",
       "      <td>1.6</td>\n",
       "      <td>0</td>\n",
       "      <td>1.60</td>\n",
       "    </tr>\n",
       "    <tr>\n",
       "      <th>33</th>\n",
       "      <td>A20VH0U95N7M0T</td>\n",
       "      <td>CSN</td>\n",
       "      <td>1.6</td>\n",
       "      <td>0</td>\n",
       "      <td>1.60</td>\n",
       "    </tr>\n",
       "    <tr>\n",
       "      <th>34</th>\n",
       "      <td>A3T9WZOUQGE2UW</td>\n",
       "      <td>CSN</td>\n",
       "      <td>1.6</td>\n",
       "      <td>0</td>\n",
       "      <td>1.60</td>\n",
       "    </tr>\n",
       "    <tr>\n",
       "      <th>35</th>\n",
       "      <td>A399GYOD60WD7M</td>\n",
       "      <td>CSN</td>\n",
       "      <td>1.6</td>\n",
       "      <td>0</td>\n",
       "      <td>1.60</td>\n",
       "    </tr>\n",
       "    <tr>\n",
       "      <th>36</th>\n",
       "      <td>A3AY0315YWWNXY</td>\n",
       "      <td>CSN</td>\n",
       "      <td>1.6</td>\n",
       "      <td>0</td>\n",
       "      <td>1.60</td>\n",
       "    </tr>\n",
       "    <tr>\n",
       "      <th>37</th>\n",
       "      <td>A1AB1BMULT9JLE</td>\n",
       "      <td>TSN</td>\n",
       "      <td>1.6</td>\n",
       "      <td>0</td>\n",
       "      <td>1.60</td>\n",
       "    </tr>\n",
       "    <tr>\n",
       "      <th>38</th>\n",
       "      <td>A14M3AB1V6GHH2</td>\n",
       "      <td>TSN</td>\n",
       "      <td>1.6</td>\n",
       "      <td>0</td>\n",
       "      <td>1.60</td>\n",
       "    </tr>\n",
       "    <tr>\n",
       "      <th>39</th>\n",
       "      <td>AL9JUMMNJRNRF</td>\n",
       "      <td>TSN</td>\n",
       "      <td>1.6</td>\n",
       "      <td>0</td>\n",
       "      <td>1.60</td>\n",
       "    </tr>\n",
       "    <tr>\n",
       "      <th>40</th>\n",
       "      <td>A2TTPULEGF8963</td>\n",
       "      <td>TSN</td>\n",
       "      <td>1.6</td>\n",
       "      <td>0</td>\n",
       "      <td>1.60</td>\n",
       "    </tr>\n",
       "    <tr>\n",
       "      <th>41</th>\n",
       "      <td>A1VCEN5IM1GQGZ</td>\n",
       "      <td>TSN</td>\n",
       "      <td>1.6</td>\n",
       "      <td>0</td>\n",
       "      <td>1.60</td>\n",
       "    </tr>\n",
       "    <tr>\n",
       "      <th>42</th>\n",
       "      <td>A8YS9CR6LM7Y9</td>\n",
       "      <td>TSN</td>\n",
       "      <td>1.6</td>\n",
       "      <td>0</td>\n",
       "      <td>1.60</td>\n",
       "    </tr>\n",
       "    <tr>\n",
       "      <th>43</th>\n",
       "      <td>A3E0NS3NXEZTUO</td>\n",
       "      <td>TSN</td>\n",
       "      <td>1.6</td>\n",
       "      <td>0</td>\n",
       "      <td>1.60</td>\n",
       "    </tr>\n",
       "    <tr>\n",
       "      <th>44</th>\n",
       "      <td>A1EX655HLB0NS4</td>\n",
       "      <td>TSN</td>\n",
       "      <td>1.6</td>\n",
       "      <td>0</td>\n",
       "      <td>1.60</td>\n",
       "    </tr>\n",
       "    <tr>\n",
       "      <th>45</th>\n",
       "      <td>A6KB4VHCZYTY2</td>\n",
       "      <td>TSN</td>\n",
       "      <td>1.6</td>\n",
       "      <td>0</td>\n",
       "      <td>1.60</td>\n",
       "    </tr>\n",
       "    <tr>\n",
       "      <th>46</th>\n",
       "      <td>NaN</td>\n",
       "      <td>NaN</td>\n",
       "      <td>NaN</td>\n",
       "      <td>NaN</td>\n",
       "      <td>NaN</td>\n",
       "    </tr>\n",
       "    <tr>\n",
       "      <th>47</th>\n",
       "      <td>NaN</td>\n",
       "      <td>NaN</td>\n",
       "      <td>NaN</td>\n",
       "      <td>Total =</td>\n",
       "      <td>135.65</td>\n",
       "    </tr>\n",
       "  </tbody>\n",
       "</table>\n",
       "</div>"
      ],
      "text/plain": [
       "          workerId Track  Base     Bonus   Total\n",
       "0   A3CMWYLWMENHLZ   CSI   1.6       1.6    3.20\n",
       "1   A2FB5UQTR3E0NX   CSI   1.6       5.6    7.20\n",
       "2   A3K1JTEB70E4FV   CSI   1.6       5.6    7.20\n",
       "3   A1O4W7F05T6HY0   CSI   1.6         0    1.60\n",
       "4   A37SLQRKOALNV6   CSI   1.6       5.6    7.20\n",
       "5   A36470UBRH28GO   CSI   1.6       1.6    3.20\n",
       "6   A3TDPXTB6Y6H1I   CSI   1.6       1.6    3.20\n",
       "7   A3HSONMX6LNZR4   CSI   1.6       5.6    7.20\n",
       "8   A34EHWOYRBL6OZ   TSI   1.6      0.95    2.55\n",
       "9   A2FFMN0E9IUKQ6   TSI   1.6      1.15    2.75\n",
       "10  A1K4NWMRGD2VE0   TSI   1.6      0.75    2.35\n",
       "11  A2E6Z6NDAES26P   TSI   1.6      0.95    2.55\n",
       "12   ADKJBYY9Q3VNZ   TSI   1.6      0.65    2.25\n",
       "13  A2XFO0X6RCS98M    CL   3.2         0    3.20\n",
       "14  A1A86H96OJ6PI8    CL   3.2         0    3.20\n",
       "15  A2EM7RPFW3DU9N    CL   3.2         0    3.20\n",
       "16  A3VFKBRFHGVF0G    CL   3.2         0    3.20\n",
       "17  A1LII4M7CS6C9I    CL   3.2         0    3.20\n",
       "18  A1TXCO12MCTP8P    CL   3.2         0    3.20\n",
       "19   A5XQ30GQTHHK6    CL   3.2         0    3.20\n",
       "20   A1X9RXT7MI571    CL   3.2         0    3.20\n",
       "21  A2GMCWY993EEYE    CL   3.2         0    3.20\n",
       "22  A114W7WQSH1UK8    CL   3.2         0    3.20\n",
       "23   AXDISUCRP4FPO    CL   3.2         0    3.20\n",
       "24  A1BHINLXH3E2GJ    CL   3.2         0    3.20\n",
       "25   AO71E3MTYDM8L    CL   3.2         0    3.20\n",
       "26  A2JJIYN79SQWT7    TL   3.2         0    3.20\n",
       "27  A2BABL5AHUOYC7    TL   3.2         0    3.20\n",
       "28  A12YGHUPJN155L    TL   3.2         0    3.20\n",
       "29  A34670P3YNB95Z    TL   3.2         0    3.20\n",
       "30  A2YO837C0O1E91    TL   3.2         0    3.20\n",
       "31  A38OPVI04AH4JG    TL   3.2         0    3.20\n",
       "32  A15GDVKMYRUPRC   CSN   1.6         0    1.60\n",
       "33  A20VH0U95N7M0T   CSN   1.6         0    1.60\n",
       "34  A3T9WZOUQGE2UW   CSN   1.6         0    1.60\n",
       "35  A399GYOD60WD7M   CSN   1.6         0    1.60\n",
       "36  A3AY0315YWWNXY   CSN   1.6         0    1.60\n",
       "37  A1AB1BMULT9JLE   TSN   1.6         0    1.60\n",
       "38  A14M3AB1V6GHH2   TSN   1.6         0    1.60\n",
       "39   AL9JUMMNJRNRF   TSN   1.6         0    1.60\n",
       "40  A2TTPULEGF8963   TSN   1.6         0    1.60\n",
       "41  A1VCEN5IM1GQGZ   TSN   1.6         0    1.60\n",
       "42   A8YS9CR6LM7Y9   TSN   1.6         0    1.60\n",
       "43  A3E0NS3NXEZTUO   TSN   1.6         0    1.60\n",
       "44  A1EX655HLB0NS4   TSN   1.6         0    1.60\n",
       "45   A6KB4VHCZYTY2   TSN   1.6         0    1.60\n",
       "46             NaN   NaN   NaN       NaN     NaN\n",
       "47             NaN   NaN   NaN  Total =   135.65"
      ]
     },
     "execution_count": 18,
     "metadata": {},
     "output_type": "execute_result"
    }
   ],
   "source": [
    "df_payments__raw = pd.read_excel(fp.final_payments)\n",
    "print(df_payments__raw.shape)\n",
    "df_payments__raw"
   ]
  },
  {
   "cell_type": "markdown",
   "id": "17dc8a4cb92bc65e",
   "metadata": {},
   "source": [
    "# DROP NO MTRUK ID ROWS FROM BOTH DATA\n",
    "- To remove the total row from the final payments\n",
    "- And to see how many of the payments in the apps_wide data have same MTurk ID"
   ]
  },
  {
   "cell_type": "code",
   "execution_count": 19,
   "id": "be90ee8ce41823a5",
   "metadata": {
    "ExecuteTime": {
     "end_time": "2025-07-07T00:24:56.019666Z",
     "start_time": "2025-07-07T00:24:56.010419Z"
    }
   },
   "outputs": [
    {
     "name": "stdout",
     "output_type": "stream",
     "text": [
      "(47, 296)\n"
     ]
    }
   ],
   "source": [
    "# Keep only those with MTurk ID in apps_wide data\n",
    "df_apps = df_apps_wide__raw.dropna(subset = [c.mturk_id])\n",
    "print(df_apps.shape)"
   ]
  },
  {
   "cell_type": "code",
   "execution_count": 20,
   "id": "37103bb2b3ed45e8",
   "metadata": {
    "ExecuteTime": {
     "end_time": "2025-07-07T00:24:56.420873Z",
     "start_time": "2025-07-07T00:24:56.414973Z"
    }
   },
   "outputs": [
    {
     "name": "stdout",
     "output_type": "stream",
     "text": [
      "(46, 5)\n"
     ]
    }
   ],
   "source": [
    "# keep only rows with workerId value [dropping the total row]\n",
    "df_pay = df_payments__raw.dropna(subset = [c.workerId])\n",
    "print(df_pay.shape)"
   ]
  },
  {
   "cell_type": "markdown",
   "id": "d54ca550bd68209d",
   "metadata": {},
   "source": [
    "# REMAINING SET OF IDS ARE NOT THE SAME - 1 MORE IN APPS DATA"
   ]
  },
  {
   "cell_type": "markdown",
   "id": "891fe005ea74a311",
   "metadata": {},
   "source": [
    "# CHECK ON THAT 1 DIFFERENCE\n",
    "find that one"
   ]
  },
  {
   "cell_type": "code",
   "execution_count": 21,
   "id": "93139108ab87911c",
   "metadata": {
    "ExecuteTime": {
     "end_time": "2025-07-07T00:24:59.445669Z",
     "start_time": "2025-07-07T00:24:59.441387Z"
    }
   },
   "outputs": [
    {
     "name": "stdout",
     "output_type": "stream",
     "text": [
      "47\n",
      "46\n",
      "1\n",
      "{'ALT6TQMZJKSFQ'}\n"
     ]
    }
   ],
   "source": [
    "ids_from_df_apps = set(df_apps[c.mturk_id])\n",
    "print(len(ids_from_df_apps))\n",
    "\n",
    "ids_from_df_pay = set(df_pay[c.workerId])\n",
    "print(len(ids_from_df_pay))\n",
    "\n",
    "sym_diff = ids_from_df_apps.symmetric_difference(ids_from_df_pay)\n",
    "print(len(sym_diff))\n",
    "print(sym_diff)"
   ]
  },
  {
   "cell_type": "markdown",
   "id": "1d1fb73721a1c674",
   "metadata": {},
   "source": [
    "## MANUAL CHECK\n",
    "I manually checked whether this workerId (ALT6TQMZJKSFQ) is present in the\n",
    "\n",
    "    1. bonus_amounts.xlsx or\n",
    "    2. bonus_payments_to_incentivized_February_18th_2025.xlsx\n",
    "    3. AssignmentTable2025-03-04.csv\n",
    "    4. HITTable2025-03-04.csv\n",
    "\n",
    "but it wasn't present in any of them\n",
    "\n",
    "though, It is present in the filded_CSN data"
   ]
  },
  {
   "cell_type": "markdown",
   "id": "797550291a1bb697",
   "metadata": {},
   "source": [
    "## Did this person get paid?\n",
    "It is not present in the final payments data but is he paid based on the all_apps_wide data?\n",
    "\n",
    "- participant.payoff column is the final payment (base + bonus) to responders"
   ]
  },
  {
   "cell_type": "code",
   "execution_count": 23,
   "id": "c09f98d38f8705ac",
   "metadata": {
    "ExecuteTime": {
     "end_time": "2025-07-07T00:25:02.154526Z",
     "start_time": "2025-07-07T00:25:02.149886Z"
    }
   },
   "outputs": [
    {
     "name": "stdout",
     "output_type": "stream",
     "text": [
      "    participant.code  participant.payoff\n",
      "105         ksg6x3ax                 1.6\n"
     ]
    }
   ],
   "source": [
    "msk = df_apps[c.mturk_id].eq(list(sym_diff)[0])\n",
    "print(df_apps.loc[msk , [c.participant_code,'participant.payoff']])"
   ]
  },
  {
   "cell_type": "markdown",
   "id": "5a78c7a2662150f1",
   "metadata": {},
   "source": [
    "### Yes\n",
    "got paid $1.6 base payment without any bonus so the final payments data is apparently not complete as well as other payments data files\n",
    "\n",
    "##  I KEEP THIS ONE RESPONDER AS A VALID RESPONSE\n",
    "So I assume this is a valid response and keep it"
   ]
  },
  {
   "cell_type": "markdown",
   "id": "e50f572daad3e505",
   "metadata": {},
   "source": [
    "# Check on whether the set of paid ones all have MTurk IDs, in the apps_wide data"
   ]
  },
  {
   "cell_type": "code",
   "execution_count": 12,
   "id": "98803beda2c9f12e",
   "metadata": {
    "ExecuteTime": {
     "end_time": "2025-07-07T00:25:06.159274Z",
     "start_time": "2025-07-07T00:25:06.148119Z"
    }
   },
   "outputs": [
    {
     "data": {
      "text/plain": [
       "np.False_"
      ]
     },
     "execution_count": 12,
     "metadata": {},
     "output_type": "execute_result"
    }
   ],
   "source": [
    "df_1 = df_apps_wide__raw.dropna(subset = [c.mturk_id])\n",
    "\n",
    "msk = df_apps_wide__raw[c.participant_payoff].eq(0)\n",
    "msk = msk | df_apps_wide__raw[c.participant_payoff].isna()\n",
    "\n",
    "df_2 = df_apps_wide__raw[~ msk]\n",
    "\n",
    "df_1.eq(df_2).all(axis = None)"
   ]
  },
  {
   "cell_type": "markdown",
   "id": "2f627804632c1401",
   "metadata": {},
   "source": [
    "## ISSUE: There are 4 responders with no MTurk ID but they have a participant.payoff value"
   ]
  },
  {
   "cell_type": "code",
   "execution_count": 15,
   "id": "3bf51490-6b26-4b82-99b4-c794020c1797",
   "metadata": {},
   "outputs": [
    {
     "data": {
      "text/plain": [
       "{'687h3r0p', '8cz1ywll', 'xjulaqnt', 'zyt920jv'}"
      ]
     },
     "execution_count": 15,
     "metadata": {},
     "output_type": "execute_result"
    }
   ],
   "source": [
    "set(df_1[c.participant_code]).symmetric_difference(set(df_2[c.participant_code]))"
   ]
  },
  {
   "cell_type": "markdown",
   "id": "20bd4a0ac2adf79c",
   "metadata": {},
   "source": [
    "# NEXT CHECK: Are all those who have participant.payoff have non-zero participant.payoff?\n",
    "In case if someone got bonus but the total payment is zero, then it is an issue"
   ]
  },
  {
   "cell_type": "code",
   "execution_count": 67,
   "id": "feb5f3fcf20a5e39",
   "metadata": {
    "ExecuteTime": {
     "end_time": "2025-07-07T00:25:19.721600Z",
     "start_time": "2025-07-07T00:25:19.717785Z"
    }
   },
   "outputs": [
    {
     "name": "stdout",
     "output_type": "stream",
     "text": [
      "All responders with participant bonus have non-zero participant payoff: True\n"
     ]
    }
   ],
   "source": [
    "msk = df_apps_wide__raw[c.participant_bonus].notna()\n",
    "df_1 = df_apps_wide__raw[msk]\n",
    "\n",
    "check = df_1[c.participant_payoff].ne(0).all()\n",
    "\n",
    "print(f\"All responders with participant bonus have non-zero participant payoff: {check}\")"
   ]
  },
  {
   "cell_type": "markdown",
   "id": "d4177d115ea24581",
   "metadata": {},
   "source": [
    "No Issue, all responders with participant bonus have non-zero participant payoff"
   ]
  },
  {
   "cell_type": "markdown",
   "id": "50c79a03bcff258d",
   "metadata": {},
   "source": [
    "# Next check: is the final payments the same as the all_apps_wide data? except for that one inconsistency?"
   ]
  },
  {
   "cell_type": "code",
   "execution_count": 69,
   "id": "4e0255842b8e5a5",
   "metadata": {
    "ExecuteTime": {
     "end_time": "2025-07-07T00:27:34.595303Z",
     "start_time": "2025-07-07T00:27:34.580705Z"
    }
   },
   "outputs": [
    {
     "data": {
      "text/plain": [
       "(47, 3)"
      ]
     },
     "execution_count": 69,
     "metadata": {},
     "output_type": "execute_result"
    }
   ],
   "source": [
    "cols_2_keep = [c.mturk_id , c.participant_payoff , c.participant_bonus]\n",
    "\n",
    "df_1 = df_apps_wide__raw[cols_2_keep]\n",
    "\n",
    "df_1 = df_1.dropna(subset = [c.mturk_id])\n",
    "df_1.shape"
   ]
  },
  {
   "cell_type": "code",
   "execution_count": 70,
   "id": "58d703dced7d2401",
   "metadata": {
    "ExecuteTime": {
     "end_time": "2025-07-07T00:27:58.427712Z",
     "start_time": "2025-07-07T00:27:58.415350Z"
    }
   },
   "outputs": [
    {
     "data": {
      "text/plain": [
       "(46, 5)"
      ]
     },
     "execution_count": 70,
     "metadata": {},
     "output_type": "execute_result"
    }
   ],
   "source": [
    "df_2 = df_payments__raw.copy()\n",
    "df_2 = df_2.dropna(subset = [c.workerId])\n",
    "df_2 = df_2.rename(columns = {\n",
    "        c.workerId : c.mturk_id\n",
    "        })\n",
    "\n",
    "df_2.shape"
   ]
  },
  {
   "cell_type": "code",
   "execution_count": 74,
   "id": "2d9b87a95d9d989c",
   "metadata": {
    "ExecuteTime": {
     "end_time": "2025-07-07T00:33:47.163474Z",
     "start_time": "2025-07-07T00:33:47.137481Z"
    }
   },
   "outputs": [
    {
     "name": "stdout",
     "output_type": "stream",
     "text": [
      "All <participant.payoff> values are equal to <Total> in the Final Payments.xlsx: True\n",
      "All <participant.bonus values are equal to <Bonus> the Final Payments.xlsx: True\n"
     ]
    }
   ],
   "source": [
    "df_merged = pd.merge(df1 , df_2)\n",
    "\n",
    "df_merged = df_merged.convert_dtypes()\n",
    "\n",
    "df_merged = df_merged.fillna(0)\n",
    "df_merged = df_merged.round(1)  # round to 2 decimal places because other wise the equla numbers are not equal exactly because of floating point precision issues\n",
    "\n",
    "# is paticipant.payoff (from all_apps_wide) == total (from Final Payments.xlsx)\n",
    "df_merged[c.test] = df_merged[c.participant_payoff].eq(df_merged[c.total])\n",
    "print(f\"All <{c.participant_payoff}> values are equal to <{c.total}> in the Final Payments.xlsx:\" ,\n",
    "      df_merged[c.test].all())\n",
    "\n",
    "# is participant.bonus (from all_apps_wide) == bonus (from Final Payments.xlsx)\n",
    "df_merged[c.test] = df_merged[c.participant_bonus].eq(df_merged[c.bonus])\n",
    "print(f\"All <{c.participant_bonus} values are equal to <{c.bonus}> the Final Payments.xlsx:\" ,\n",
    "      df_merged[c.test].all())"
   ]
  },
  {
   "cell_type": "markdown",
   "id": "a11732f5cb51527",
   "metadata": {},
   "source": [
    "# Keep Valid Responses\n",
    "CRITERIA:\n",
    "- I used all who paid (participant.payoff > 0) from the apps_wide data as valid responses\n",
    "- This is a greater set than the one from the Final Payments.xlsx file and the ones who have MTurk IDs\n",
    "- I just wanted to use the largest set of valid responses\n",
    "- But we need to check whether what has happened with the ones who have no MTurk IDs"
   ]
  },
  {
   "cell_type": "code",
   "execution_count": 80,
   "id": "5d2a0153dbf9c53e",
   "metadata": {
    "ExecuteTime": {
     "end_time": "2025-07-07T00:37:39.837626Z",
     "start_time": "2025-07-07T00:37:39.645678Z"
    }
   },
   "outputs": [],
   "source": [
    "msk = df_apps_wide__raw[c.participant_payoff].gt(0)\n",
    "\n",
    "df_all_apps_cln = df_apps_wide__raw[msk].copy()\n",
    "df_all_apps_cln.shape"
   ]
  },
  {
   "cell_type": "code",
   "execution_count": 82,
   "id": "94919453688ee784",
   "metadata": {
    "ExecuteTime": {
     "end_time": "2025-07-07T00:38:54.575183Z",
     "start_time": "2025-07-07T00:38:54.567427Z"
    }
   },
   "outputs": [
    {
     "data": {
      "text/plain": [
       "True"
      ]
     },
     "execution_count": 82,
     "metadata": {},
     "output_type": "execute_result"
    }
   ],
   "source": [
    "# check all the participant.code values are unique\n",
    "df_all_apps_cln[c.participant_code].is_unique"
   ]
  },
  {
   "cell_type": "markdown",
   "id": "b59fa73740353f15",
   "metadata": {},
   "source": [
    "## Yes all participant.code values are unique in the cleaned data"
   ]
  },
  {
   "cell_type": "code",
   "execution_count": 91,
   "id": "859a969034b17b57",
   "metadata": {
    "ExecuteTime": {
     "end_time": "2025-07-07T00:44:04.671438Z",
     "start_time": "2025-07-07T00:44:04.552886Z"
    }
   },
   "outputs": [],
   "source": [
    "# save the cleaned data\n",
    "df_all_apps_cln.to_excel(fp.clean_all_apps , index = False)"
   ]
  },
  {
   "cell_type": "code",
   "execution_count": 92,
   "id": "fca07d96b5dcb777",
   "metadata": {
    "ExecuteTime": {
     "end_time": "2025-07-07T00:44:04.994086Z",
     "start_time": "2025-07-07T00:44:04.984361Z"
    }
   },
   "outputs": [
    {
     "data": {
      "text/plain": [
       "(946, 10)"
      ]
     },
     "execution_count": 92,
     "metadata": {},
     "output_type": "execute_result"
    }
   ],
   "source": [
    "# keep the final sample of responders from the page times data as clean page times data\n",
    "\n",
    "df_pg_times = pd.read_csv(fp.page_times)\n",
    "df_pg_times.shape"
   ]
  },
  {
   "cell_type": "code",
   "execution_count": 97,
   "id": "af5c2d911739c317",
   "metadata": {
    "ExecuteTime": {
     "end_time": "2025-07-07T00:44:34.945784Z",
     "start_time": "2025-07-07T00:44:34.942808Z"
    }
   },
   "outputs": [],
   "source": [
    "# rename participant_code to participant.code in the page times data to match the all_apps data\n",
    "df_pg_times = df_pg_times.rename(columns = {\n",
    "        'participant_code' : c.participant_code\n",
    "        })"
   ]
  },
  {
   "cell_type": "code",
   "execution_count": 98,
   "id": "8a8174d89f062ca7",
   "metadata": {
    "ExecuteTime": {
     "end_time": "2025-07-07T00:44:35.732532Z",
     "start_time": "2025-07-07T00:44:35.724935Z"
    }
   },
   "outputs": [
    {
     "data": {
      "text/plain": [
       "(943, 10)"
      ]
     },
     "execution_count": 98,
     "metadata": {},
     "output_type": "execute_result"
    }
   ],
   "source": [
    "msk = df_pg_times[c.participant_code].isin(df_all_apps_cln[c.participant_code])\n",
    "\n",
    "df_pg_times_cln = df_pg_times[msk].copy()\n",
    "\n",
    "df_pg_times_cln.shape"
   ]
  },
  {
   "cell_type": "code",
   "execution_count": 100,
   "id": "c428c6b4a6ffce6c",
   "metadata": {
    "ExecuteTime": {
     "end_time": "2025-07-07T00:45:32.275909Z",
     "start_time": "2025-07-07T00:45:32.270181Z"
    }
   },
   "outputs": [],
   "source": [
    "# sort on participant.code and page index\n",
    "df_pg_times_cln = df_pg_times_cln.sort_values(by = [c.participant_code ,\n",
    "                                                    c.page_index])"
   ]
  },
  {
   "cell_type": "code",
   "execution_count": 104,
   "id": "13bf9c6f2ef0cdb6",
   "metadata": {
    "ExecuteTime": {
     "end_time": "2025-07-07T00:46:21.138320Z",
     "start_time": "2025-07-07T00:46:21.055369Z"
    }
   },
   "outputs": [],
   "source": [
    "# save the cleaned page times data\n",
    "df_pg_times_cln.to_excel(fp.cln_page_times , index = False)"
   ]
  }
 ],
 "metadata": {
  "kernelspec": {
   "display_name": "Python 3 (ipykernel)",
   "language": "python",
   "name": "python3"
  },
  "language_info": {
   "codemirror_mode": {
    "name": "ipython",
    "version": 3
   },
   "file_extension": ".py",
   "mimetype": "text/x-python",
   "name": "python",
   "nbconvert_exporter": "python",
   "pygments_lexer": "ipython3",
   "version": "3.12.2"
  }
 },
 "nbformat": 4,
 "nbformat_minor": 5
}
