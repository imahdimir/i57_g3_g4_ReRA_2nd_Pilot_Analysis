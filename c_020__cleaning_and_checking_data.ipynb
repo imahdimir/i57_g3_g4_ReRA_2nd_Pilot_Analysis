{
 "cells": [
  {
   "metadata": {
    "ExecuteTime": {
     "end_time": "2025-07-07T00:52:00.526004Z",
     "start_time": "2025-07-07T00:52:00.517660Z"
    }
   },
   "cell_type": "code",
   "source": [
    "import pandas as pd\n",
    "from i7_hot_reload.hot_reload import hot_reload_a_module_from_cwd\n",
    "\n",
    "\n",
    "b_000_env = hot_reload_a_module_from_cwd('b_000_env')\n",
    "\n",
    "from b_000_env import Directory\n",
    "from b_000_env import FilePath\n",
    "from b_000_env import Constants\n",
    "\n",
    "\n",
    "d = Directory()\n",
    "fp = FilePath()\n",
    "c = Constants()"
   ],
   "id": "db5a2fd10d44a7d4",
   "outputs": [],
   "execution_count": 105
  },
  {
   "metadata": {},
   "cell_type": "markdown",
   "source": [
    "# READ RAW DATA\n",
    "## APPS WIDE DATA - DATA FROM OTREE"
   ],
   "id": "9675a45992d84862"
  },
  {
   "metadata": {
    "ExecuteTime": {
     "end_time": "2025-07-07T00:24:53.188033Z",
     "start_time": "2025-07-07T00:24:53.152514Z"
    }
   },
   "cell_type": "code",
   "source": [
    "df_apps_wide__raw = pd.read_csv(fp.all_apps_wide_csv_250301)\n",
    "print(df_apps_wide__raw.shape)\n",
    "df_apps_wide__raw.head()"
   ],
   "id": "b268712470495ee4",
   "outputs": [
    {
     "name": "stdout",
     "output_type": "stream",
     "text": [
      "(300, 296)\n"
     ]
    },
    {
     "data": {
      "text/plain": [
       "   participant.id_in_session participant.code  participant.label  \\\n",
       "0                          1         xjulaqnt                NaN   \n",
       "1                          2         vc2z1rqk                NaN   \n",
       "2                          3         kb6n7gdo                NaN   \n",
       "3                          4         4ehzz2gc                NaN   \n",
       "4                          5         t6jmltim                NaN   \n",
       "\n",
       "   participant._is_bot  participant._index_in_pages  \\\n",
       "0                    0                            1   \n",
       "1                    0                           33   \n",
       "2                    0                           33   \n",
       "3                    0                           33   \n",
       "4                    0                           33   \n",
       "\n",
       "   participant._max_page_index participant._current_app_name  \\\n",
       "0                           33                  Introduction   \n",
       "1                           33                 EndAndPayment   \n",
       "2                           33                 EndAndPayment   \n",
       "3                           33                 EndAndPayment   \n",
       "4                           33                 EndAndPayment   \n",
       "\n",
       "  participant._current_page_name participant.time_started_utc  \\\n",
       "0                   Introduction   2025-02-11 15:47:47.700346   \n",
       "1                     ThanksPage   2025-02-11 16:05:37.167970   \n",
       "2                     ThanksPage   2025-02-11 18:21:57.987464   \n",
       "3                     ThanksPage   2025-02-11 18:32:54.168255   \n",
       "4                     ThanksPage   2025-02-11 18:49:17.748246   \n",
       "\n",
       "   participant.visited  ...  EndAndPayment.1.player.payoff  \\\n",
       "0                    1  ...                            0.0   \n",
       "1                    1  ...                            0.0   \n",
       "2                    1  ...                            0.0   \n",
       "3                    1  ...                            0.0   \n",
       "4                    1  ...                            0.0   \n",
       "\n",
       "   EndAndPayment.1.player.PairwisePaymentPage_timestamp  \\\n",
       "0                                                  0      \n",
       "1                                                  0      \n",
       "2                                                  0      \n",
       "3                                                  0      \n",
       "4                                                  0      \n",
       "\n",
       "   EndAndPayment.1.player.NodewisePaymentPage_timestamp  \\\n",
       "0                                                  0      \n",
       "1                                                  0      \n",
       "2                                                  0      \n",
       "3                                                  0      \n",
       "4                                                  0      \n",
       "\n",
       "   EndAndPayment.1.player.ThanksPage_timestamp EndAndPayment.1.player.lottery  \\\n",
       "0                                            0                            NaN   \n",
       "1                                1739290857611                            NaN   \n",
       "2                                1739299111412                            NaN   \n",
       "3                                1739299885508                            NaN   \n",
       "4                                1739301525273                            NaN   \n",
       "\n",
       "  EndAndPayment.1.player.final_payment EndAndPayment.1.player.recon_choice  \\\n",
       "0                                  NaN                                 NaN   \n",
       "1                                  NaN                                 NaN   \n",
       "2                                  NaN                                 NaN   \n",
       "3                                  NaN                                 NaN   \n",
       "4                                  NaN                                 NaN   \n",
       "\n",
       "   EndAndPayment.1.player.comment EndAndPayment.1.group.id_in_subsession  \\\n",
       "0                             NaN                                      1   \n",
       "1                             NaN                                      1   \n",
       "2                             NaN                                      1   \n",
       "3                             NaN                                      1   \n",
       "4                             NaN                                      1   \n",
       "\n",
       "  EndAndPayment.1.subsession.round_number  \n",
       "0                                       1  \n",
       "1                                       1  \n",
       "2                                       1  \n",
       "3                                       1  \n",
       "4                                       1  \n",
       "\n",
       "[5 rows x 296 columns]"
      ],
      "text/html": [
       "<div>\n",
       "<style scoped>\n",
       "    .dataframe tbody tr th:only-of-type {\n",
       "        vertical-align: middle;\n",
       "    }\n",
       "\n",
       "    .dataframe tbody tr th {\n",
       "        vertical-align: top;\n",
       "    }\n",
       "\n",
       "    .dataframe thead th {\n",
       "        text-align: right;\n",
       "    }\n",
       "</style>\n",
       "<table border=\"1\" class=\"dataframe\">\n",
       "  <thead>\n",
       "    <tr style=\"text-align: right;\">\n",
       "      <th></th>\n",
       "      <th>participant.id_in_session</th>\n",
       "      <th>participant.code</th>\n",
       "      <th>participant.label</th>\n",
       "      <th>participant._is_bot</th>\n",
       "      <th>participant._index_in_pages</th>\n",
       "      <th>participant._max_page_index</th>\n",
       "      <th>participant._current_app_name</th>\n",
       "      <th>participant._current_page_name</th>\n",
       "      <th>participant.time_started_utc</th>\n",
       "      <th>participant.visited</th>\n",
       "      <th>...</th>\n",
       "      <th>EndAndPayment.1.player.payoff</th>\n",
       "      <th>EndAndPayment.1.player.PairwisePaymentPage_timestamp</th>\n",
       "      <th>EndAndPayment.1.player.NodewisePaymentPage_timestamp</th>\n",
       "      <th>EndAndPayment.1.player.ThanksPage_timestamp</th>\n",
       "      <th>EndAndPayment.1.player.lottery</th>\n",
       "      <th>EndAndPayment.1.player.final_payment</th>\n",
       "      <th>EndAndPayment.1.player.recon_choice</th>\n",
       "      <th>EndAndPayment.1.player.comment</th>\n",
       "      <th>EndAndPayment.1.group.id_in_subsession</th>\n",
       "      <th>EndAndPayment.1.subsession.round_number</th>\n",
       "    </tr>\n",
       "  </thead>\n",
       "  <tbody>\n",
       "    <tr>\n",
       "      <th>0</th>\n",
       "      <td>1</td>\n",
       "      <td>xjulaqnt</td>\n",
       "      <td>NaN</td>\n",
       "      <td>0</td>\n",
       "      <td>1</td>\n",
       "      <td>33</td>\n",
       "      <td>Introduction</td>\n",
       "      <td>Introduction</td>\n",
       "      <td>2025-02-11 15:47:47.700346</td>\n",
       "      <td>1</td>\n",
       "      <td>...</td>\n",
       "      <td>0.0</td>\n",
       "      <td>0</td>\n",
       "      <td>0</td>\n",
       "      <td>0</td>\n",
       "      <td>NaN</td>\n",
       "      <td>NaN</td>\n",
       "      <td>NaN</td>\n",
       "      <td>NaN</td>\n",
       "      <td>1</td>\n",
       "      <td>1</td>\n",
       "    </tr>\n",
       "    <tr>\n",
       "      <th>1</th>\n",
       "      <td>2</td>\n",
       "      <td>vc2z1rqk</td>\n",
       "      <td>NaN</td>\n",
       "      <td>0</td>\n",
       "      <td>33</td>\n",
       "      <td>33</td>\n",
       "      <td>EndAndPayment</td>\n",
       "      <td>ThanksPage</td>\n",
       "      <td>2025-02-11 16:05:37.167970</td>\n",
       "      <td>1</td>\n",
       "      <td>...</td>\n",
       "      <td>0.0</td>\n",
       "      <td>0</td>\n",
       "      <td>0</td>\n",
       "      <td>1739290857611</td>\n",
       "      <td>NaN</td>\n",
       "      <td>NaN</td>\n",
       "      <td>NaN</td>\n",
       "      <td>NaN</td>\n",
       "      <td>1</td>\n",
       "      <td>1</td>\n",
       "    </tr>\n",
       "    <tr>\n",
       "      <th>2</th>\n",
       "      <td>3</td>\n",
       "      <td>kb6n7gdo</td>\n",
       "      <td>NaN</td>\n",
       "      <td>0</td>\n",
       "      <td>33</td>\n",
       "      <td>33</td>\n",
       "      <td>EndAndPayment</td>\n",
       "      <td>ThanksPage</td>\n",
       "      <td>2025-02-11 18:21:57.987464</td>\n",
       "      <td>1</td>\n",
       "      <td>...</td>\n",
       "      <td>0.0</td>\n",
       "      <td>0</td>\n",
       "      <td>0</td>\n",
       "      <td>1739299111412</td>\n",
       "      <td>NaN</td>\n",
       "      <td>NaN</td>\n",
       "      <td>NaN</td>\n",
       "      <td>NaN</td>\n",
       "      <td>1</td>\n",
       "      <td>1</td>\n",
       "    </tr>\n",
       "    <tr>\n",
       "      <th>3</th>\n",
       "      <td>4</td>\n",
       "      <td>4ehzz2gc</td>\n",
       "      <td>NaN</td>\n",
       "      <td>0</td>\n",
       "      <td>33</td>\n",
       "      <td>33</td>\n",
       "      <td>EndAndPayment</td>\n",
       "      <td>ThanksPage</td>\n",
       "      <td>2025-02-11 18:32:54.168255</td>\n",
       "      <td>1</td>\n",
       "      <td>...</td>\n",
       "      <td>0.0</td>\n",
       "      <td>0</td>\n",
       "      <td>0</td>\n",
       "      <td>1739299885508</td>\n",
       "      <td>NaN</td>\n",
       "      <td>NaN</td>\n",
       "      <td>NaN</td>\n",
       "      <td>NaN</td>\n",
       "      <td>1</td>\n",
       "      <td>1</td>\n",
       "    </tr>\n",
       "    <tr>\n",
       "      <th>4</th>\n",
       "      <td>5</td>\n",
       "      <td>t6jmltim</td>\n",
       "      <td>NaN</td>\n",
       "      <td>0</td>\n",
       "      <td>33</td>\n",
       "      <td>33</td>\n",
       "      <td>EndAndPayment</td>\n",
       "      <td>ThanksPage</td>\n",
       "      <td>2025-02-11 18:49:17.748246</td>\n",
       "      <td>1</td>\n",
       "      <td>...</td>\n",
       "      <td>0.0</td>\n",
       "      <td>0</td>\n",
       "      <td>0</td>\n",
       "      <td>1739301525273</td>\n",
       "      <td>NaN</td>\n",
       "      <td>NaN</td>\n",
       "      <td>NaN</td>\n",
       "      <td>NaN</td>\n",
       "      <td>1</td>\n",
       "      <td>1</td>\n",
       "    </tr>\n",
       "  </tbody>\n",
       "</table>\n",
       "<p>5 rows × 296 columns</p>\n",
       "</div>"
      ]
     },
     "execution_count": 60,
     "metadata": {},
     "output_type": "execute_result"
    }
   ],
   "execution_count": 60
  },
  {
   "metadata": {},
   "cell_type": "markdown",
   "source": "## FINAL PAYMENTS DATA - DATA FROM MTURK FINAL PAYMENTS EXCEL FILE",
   "id": "5eba659c828d6e3c"
  },
  {
   "metadata": {
    "ExecuteTime": {
     "end_time": "2025-07-07T00:24:54.146257Z",
     "start_time": "2025-07-07T00:24:54.107338Z"
    }
   },
   "cell_type": "code",
   "source": [
    "df_payments__raw = pd.read_excel(fp.final_payments)\n",
    "print(df_payments__raw.shape)\n",
    "df_payments__raw.head()"
   ],
   "id": "bd255d63f98a929a",
   "outputs": [
    {
     "name": "stdout",
     "output_type": "stream",
     "text": [
      "(48, 5)\n"
     ]
    },
    {
     "data": {
      "text/plain": [
       "         workerId Track  Base Bonus  Total\n",
       "0  A3CMWYLWMENHLZ   CSI   1.6   1.6    3.2\n",
       "1  A2FB5UQTR3E0NX   CSI   1.6   5.6    7.2\n",
       "2  A3K1JTEB70E4FV   CSI   1.6   5.6    7.2\n",
       "3  A1O4W7F05T6HY0   CSI   1.6     0    1.6\n",
       "4  A37SLQRKOALNV6   CSI   1.6   5.6    7.2"
      ],
      "text/html": [
       "<div>\n",
       "<style scoped>\n",
       "    .dataframe tbody tr th:only-of-type {\n",
       "        vertical-align: middle;\n",
       "    }\n",
       "\n",
       "    .dataframe tbody tr th {\n",
       "        vertical-align: top;\n",
       "    }\n",
       "\n",
       "    .dataframe thead th {\n",
       "        text-align: right;\n",
       "    }\n",
       "</style>\n",
       "<table border=\"1\" class=\"dataframe\">\n",
       "  <thead>\n",
       "    <tr style=\"text-align: right;\">\n",
       "      <th></th>\n",
       "      <th>workerId</th>\n",
       "      <th>Track</th>\n",
       "      <th>Base</th>\n",
       "      <th>Bonus</th>\n",
       "      <th>Total</th>\n",
       "    </tr>\n",
       "  </thead>\n",
       "  <tbody>\n",
       "    <tr>\n",
       "      <th>0</th>\n",
       "      <td>A3CMWYLWMENHLZ</td>\n",
       "      <td>CSI</td>\n",
       "      <td>1.6</td>\n",
       "      <td>1.6</td>\n",
       "      <td>3.2</td>\n",
       "    </tr>\n",
       "    <tr>\n",
       "      <th>1</th>\n",
       "      <td>A2FB5UQTR3E0NX</td>\n",
       "      <td>CSI</td>\n",
       "      <td>1.6</td>\n",
       "      <td>5.6</td>\n",
       "      <td>7.2</td>\n",
       "    </tr>\n",
       "    <tr>\n",
       "      <th>2</th>\n",
       "      <td>A3K1JTEB70E4FV</td>\n",
       "      <td>CSI</td>\n",
       "      <td>1.6</td>\n",
       "      <td>5.6</td>\n",
       "      <td>7.2</td>\n",
       "    </tr>\n",
       "    <tr>\n",
       "      <th>3</th>\n",
       "      <td>A1O4W7F05T6HY0</td>\n",
       "      <td>CSI</td>\n",
       "      <td>1.6</td>\n",
       "      <td>0</td>\n",
       "      <td>1.6</td>\n",
       "    </tr>\n",
       "    <tr>\n",
       "      <th>4</th>\n",
       "      <td>A37SLQRKOALNV6</td>\n",
       "      <td>CSI</td>\n",
       "      <td>1.6</td>\n",
       "      <td>5.6</td>\n",
       "      <td>7.2</td>\n",
       "    </tr>\n",
       "  </tbody>\n",
       "</table>\n",
       "</div>"
      ]
     },
     "execution_count": 61,
     "metadata": {},
     "output_type": "execute_result"
    }
   ],
   "execution_count": 61
  },
  {
   "metadata": {},
   "cell_type": "markdown",
   "source": "# DROP NO MTRUK ID ROWS FROM BOTH DATA",
   "id": "17dc8a4cb92bc65e"
  },
  {
   "metadata": {
    "ExecuteTime": {
     "end_time": "2025-07-07T00:24:56.019666Z",
     "start_time": "2025-07-07T00:24:56.010419Z"
    }
   },
   "cell_type": "code",
   "source": [
    "# Keep only those with MTurk ID in apps_wide data\n",
    "df_apps = df_apps_wide__raw.dropna(subset = [c.mturk_id])\n",
    "print(df_apps.shape)"
   ],
   "id": "be90ee8ce41823a5",
   "outputs": [
    {
     "name": "stdout",
     "output_type": "stream",
     "text": [
      "(47, 296)\n"
     ]
    }
   ],
   "execution_count": 62
  },
  {
   "metadata": {
    "ExecuteTime": {
     "end_time": "2025-07-07T00:24:56.420873Z",
     "start_time": "2025-07-07T00:24:56.414973Z"
    }
   },
   "cell_type": "code",
   "source": [
    "# keep only rows with workerId value [dropping the total row]\n",
    "df_pay = df_payments__raw.dropna(subset = [c.workerId])\n",
    "print(df_pay.shape)"
   ],
   "id": "37103bb2b3ed45e8",
   "outputs": [
    {
     "name": "stdout",
     "output_type": "stream",
     "text": [
      "(46, 5)\n"
     ]
    }
   ],
   "execution_count": 63
  },
  {
   "metadata": {},
   "cell_type": "markdown",
   "source": "# REMAINING SET OF IDS ARE NOT THE SAME - 1 MORE IN APPS DATA",
   "id": "d54ca550bd68209d"
  },
  {
   "metadata": {},
   "cell_type": "markdown",
   "source": [
    "# CHECK ON THAT 1 DIFFERENCE\n",
    "find that one"
   ],
   "id": "891fe005ea74a311"
  },
  {
   "metadata": {
    "ExecuteTime": {
     "end_time": "2025-07-07T00:24:59.445669Z",
     "start_time": "2025-07-07T00:24:59.441387Z"
    }
   },
   "cell_type": "code",
   "source": [
    "ids_from_df_apps = set(df_apps[c.mturk_id])\n",
    "print(len(ids_from_df_apps))\n",
    "\n",
    "ids_from_df_pay = set(df_pay[c.workerId])\n",
    "print(len(ids_from_df_pay))\n",
    "\n",
    "sym_diff = ids_from_df_apps.symmetric_difference(ids_from_df_pay)\n",
    "print(len(sym_diff))\n",
    "print(sym_diff)"
   ],
   "id": "93139108ab87911c",
   "outputs": [
    {
     "name": "stdout",
     "output_type": "stream",
     "text": [
      "47\n",
      "46\n",
      "1\n",
      "{'ALT6TQMZJKSFQ'}\n"
     ]
    }
   ],
   "execution_count": 64
  },
  {
   "metadata": {},
   "cell_type": "markdown",
   "source": [
    "## MANUAL CHECK\n",
    "I manually checked whether this workerId (ALT6TQMZJKSFQ) is present in the\n",
    "\n",
    "    1. bonus_amounts.xlsx or\n",
    "    2. bonus_payments_to_incentivized_February_18th_2025.xlsx\n",
    "    3. AssignmentTable2025-03-04.csv\n",
    "    4. HITTable2025-03-04.csv\n",
    "\n",
    "but it wasn't present in any of them\n",
    "\n",
    "though, It is present in the filded_CSN data"
   ],
   "id": "1d1fb73721a1c674"
  },
  {
   "metadata": {},
   "cell_type": "markdown",
   "source": [
    "## Did this person get paid?\n",
    "It is not present in the final payments data but is he paid based on the all_apps_wide data?\n",
    "\n",
    "- participant.payoff column is the final payment (base + bonus) to responders"
   ],
   "id": "797550291a1bb697"
  },
  {
   "metadata": {
    "ExecuteTime": {
     "end_time": "2025-07-07T00:25:02.154526Z",
     "start_time": "2025-07-07T00:25:02.149886Z"
    }
   },
   "cell_type": "code",
   "source": [
    "msk = df_apps[c.mturk_id].eq(list(sym_diff)[0])\n",
    "print(df_apps.loc[msk , 'participant.payoff'])"
   ],
   "id": "c09f98d38f8705ac",
   "outputs": [
    {
     "name": "stdout",
     "output_type": "stream",
     "text": [
      "105    1.6\n",
      "Name: participant.payoff, dtype: float64\n"
     ]
    }
   ],
   "execution_count": 65
  },
  {
   "metadata": {},
   "cell_type": "markdown",
   "source": [
    "### Yes\n",
    "got paid $1.6 base payment without any bonus so the final payments data is apparently not complete as well as other payments data files\n",
    "\n",
    "##  I KEEP THIS ONE RESPONDER AS A VALID RESPONSE\n",
    "So I assume this is a valid response and keep it"
   ],
   "id": "5a78c7a2662150f1"
  },
  {
   "metadata": {},
   "cell_type": "markdown",
   "source": "# Check on whether the set of paid ones all have MTurk IDs, in the apps_wide data",
   "id": "e50f572daad3e505"
  },
  {
   "metadata": {
    "ExecuteTime": {
     "end_time": "2025-07-07T00:25:06.159274Z",
     "start_time": "2025-07-07T00:25:06.148119Z"
    }
   },
   "cell_type": "code",
   "source": [
    "df_1 = df_apps_wide__raw.dropna(subset = [c.mturk_id])\n",
    "\n",
    "msk = df_apps_wide__raw[c.participant_payoff].eq(0)\n",
    "msk = msk | df_apps_wide__raw[c.participant_payoff].isna()\n",
    "\n",
    "df_2 = df_apps_wide__raw[~ msk]\n",
    "\n",
    "df_1.eq(df_2).all(axis = None)"
   ],
   "id": "98803beda2c9f12e",
   "outputs": [
    {
     "data": {
      "text/plain": [
       "np.False_"
      ]
     },
     "execution_count": 66,
     "metadata": {},
     "output_type": "execute_result"
    }
   ],
   "execution_count": 66
  },
  {
   "metadata": {},
   "cell_type": "markdown",
   "source": "## ISSUE: There are 4 responders with no MTurk ID but they have a participant.payoff value",
   "id": "2f627804632c1401"
  },
  {
   "metadata": {},
   "cell_type": "markdown",
   "source": [
    "# NEXT CHECK: Are all those who have participant.payoff have non-zero participant.payoff?\n",
    "In case if someone got bonus but the total payment is zero, then it is an issue"
   ],
   "id": "20bd4a0ac2adf79c"
  },
  {
   "metadata": {
    "ExecuteTime": {
     "end_time": "2025-07-07T00:25:19.721600Z",
     "start_time": "2025-07-07T00:25:19.717785Z"
    }
   },
   "cell_type": "code",
   "source": [
    "msk = df_apps_wide__raw[c.participant_bonus].notna()\n",
    "df_1 = df_apps_wide__raw[msk]\n",
    "\n",
    "check = df_1[c.participant_payoff].ne(0).all()\n",
    "\n",
    "print(f\"All responders with participant bonus have non-zero participant payoff: {check}\")"
   ],
   "id": "feb5f3fcf20a5e39",
   "outputs": [
    {
     "name": "stdout",
     "output_type": "stream",
     "text": [
      "All responders with participant bonus have non-zero participant payoff: True\n"
     ]
    }
   ],
   "execution_count": 67
  },
  {
   "metadata": {},
   "cell_type": "markdown",
   "source": "No Issue, all responders with participant bonus have non-zero participant payoff",
   "id": "d4177d115ea24581"
  },
  {
   "metadata": {},
   "cell_type": "markdown",
   "source": "# Next check: is the final payments the same as the all_apps_wide data? except for that one inconsistency?",
   "id": "50c79a03bcff258d"
  },
  {
   "metadata": {
    "ExecuteTime": {
     "end_time": "2025-07-07T00:27:34.595303Z",
     "start_time": "2025-07-07T00:27:34.580705Z"
    }
   },
   "cell_type": "code",
   "source": [
    "cols_2_keep = [c.mturk_id , c.participant_payoff , c.participant_bonus]\n",
    "\n",
    "df_1 = df_apps_wide__raw[cols_2_keep]\n",
    "\n",
    "df_1 = df_1.dropna(subset = [c.mturk_id])\n",
    "df_1.shape"
   ],
   "id": "4e0255842b8e5a5",
   "outputs": [
    {
     "data": {
      "text/plain": [
       "(47, 3)"
      ]
     },
     "execution_count": 69,
     "metadata": {},
     "output_type": "execute_result"
    }
   ],
   "execution_count": 69
  },
  {
   "metadata": {
    "ExecuteTime": {
     "end_time": "2025-07-07T00:27:58.427712Z",
     "start_time": "2025-07-07T00:27:58.415350Z"
    }
   },
   "cell_type": "code",
   "source": [
    "df_2 = df_payments__raw.copy()\n",
    "df_2 = df_2.dropna(subset = [c.workerId])\n",
    "df_2 = df_2.rename(columns = {\n",
    "        c.workerId : c.mturk_id\n",
    "        })\n",
    "\n",
    "df_2.shape"
   ],
   "id": "58d703dced7d2401",
   "outputs": [
    {
     "data": {
      "text/plain": [
       "(46, 5)"
      ]
     },
     "execution_count": 70,
     "metadata": {},
     "output_type": "execute_result"
    }
   ],
   "execution_count": 70
  },
  {
   "metadata": {
    "ExecuteTime": {
     "end_time": "2025-07-07T00:33:47.163474Z",
     "start_time": "2025-07-07T00:33:47.137481Z"
    }
   },
   "cell_type": "code",
   "source": [
    "df_merged = pd.merge(df1 , df_2)\n",
    "\n",
    "df_merged = df_merged.convert_dtypes()\n",
    "\n",
    "df_merged = df_merged.fillna(0)\n",
    "df_merged = df_merged.round(1)  # round to 2 decimal places because other wise the equla numbers are not equal exactly because of floating point precision issues\n",
    "\n",
    "# is paticipant.payoff (from all_apps_wide) == total (from Final Payments.xlsx)\n",
    "df_merged[c.test] = df_merged[c.participant_payoff].eq(df_merged[c.total])\n",
    "print(f\"All <{c.participant_payoff}> values are equal to <{c.total}> in the Final Payments.xlsx:\" ,\n",
    "      df_merged[c.test].all())\n",
    "\n",
    "# is participant.bonus (from all_apps_wide) == bonus (from Final Payments.xlsx)\n",
    "df_merged[c.test] = df_merged[c.participant_bonus].eq(df_merged[c.bonus])\n",
    "print(f\"All <{c.participant_bonus} values are equal to <{c.bonus}> the Final Payments.xlsx:\" ,\n",
    "      df_merged[c.test].all())"
   ],
   "id": "2d9b87a95d9d989c",
   "outputs": [
    {
     "name": "stdout",
     "output_type": "stream",
     "text": [
      "All <participant.payoff> values are equal to <Total> in the Final Payments.xlsx: True\n",
      "All <participant.bonus values are equal to <Bonus> the Final Payments.xlsx: True\n"
     ]
    }
   ],
   "execution_count": 74
  },
  {
   "metadata": {},
   "cell_type": "markdown",
   "source": [
    "# Keep Valid Responses\n",
    "CRITERIA:\n",
    "- I used all who paid (participant.payoff > 0) from the apps_wide data as valid responses\n",
    "- This is a greater set than the one from the Final Payments.xlsx file and the ones who have MTurk IDs\n",
    "- I just wanted to use the largest set of valid responses\n",
    "- But we need to check whether what has happened with the ones who have no MTurk IDs"
   ],
   "id": "a11732f5cb51527"
  },
  {
   "metadata": {
    "ExecuteTime": {
     "end_time": "2025-07-07T00:37:39.837626Z",
     "start_time": "2025-07-07T00:37:39.645678Z"
    }
   },
   "cell_type": "code",
   "source": [
    "msk = df_apps_wide__raw[c.participant_payoff].gt(0)\n",
    "\n",
    "df_all_apps_cln = df_apps_wide__raw[msk].copy()\n",
    "df_all_apps_cln.shape"
   ],
   "id": "5d2a0153dbf9c53e",
   "outputs": [],
   "execution_count": 80
  },
  {
   "metadata": {
    "ExecuteTime": {
     "end_time": "2025-07-07T00:38:54.575183Z",
     "start_time": "2025-07-07T00:38:54.567427Z"
    }
   },
   "cell_type": "code",
   "source": [
    "# check all the participant.code values are unique\n",
    "df_all_apps_cln[c.participant_code].is_unique"
   ],
   "id": "94919453688ee784",
   "outputs": [
    {
     "data": {
      "text/plain": [
       "True"
      ]
     },
     "execution_count": 82,
     "metadata": {},
     "output_type": "execute_result"
    }
   ],
   "execution_count": 82
  },
  {
   "metadata": {},
   "cell_type": "markdown",
   "source": "## Yes all participant.code values are unique in the cleaned data",
   "id": "b59fa73740353f15"
  },
  {
   "metadata": {
    "ExecuteTime": {
     "end_time": "2025-07-07T00:44:04.671438Z",
     "start_time": "2025-07-07T00:44:04.552886Z"
    }
   },
   "cell_type": "code",
   "source": [
    "# save the cleaned data\n",
    "df_all_apps_cln.to_excel(fp.clean_all_apps , index = False)"
   ],
   "id": "859a969034b17b57",
   "outputs": [],
   "execution_count": 91
  },
  {
   "metadata": {
    "ExecuteTime": {
     "end_time": "2025-07-07T00:44:04.994086Z",
     "start_time": "2025-07-07T00:44:04.984361Z"
    }
   },
   "cell_type": "code",
   "source": [
    "# keep the final sample of responders from the page times data as clean page times data\n",
    "\n",
    "df_pg_times = pd.read_csv(fp.page_times)\n",
    "df_pg_times.shape"
   ],
   "id": "fca07d96b5dcb777",
   "outputs": [
    {
     "data": {
      "text/plain": [
       "(946, 10)"
      ]
     },
     "execution_count": 92,
     "metadata": {},
     "output_type": "execute_result"
    }
   ],
   "execution_count": 92
  },
  {
   "metadata": {
    "ExecuteTime": {
     "end_time": "2025-07-07T00:44:34.945784Z",
     "start_time": "2025-07-07T00:44:34.942808Z"
    }
   },
   "cell_type": "code",
   "source": [
    "# rename participant_code to participant.code in the page times data to match the all_apps data\n",
    "df_pg_times = df_pg_times.rename(columns = {\n",
    "        'participant_code' : c.participant_code\n",
    "        })"
   ],
   "id": "af5c2d911739c317",
   "outputs": [],
   "execution_count": 97
  },
  {
   "metadata": {
    "ExecuteTime": {
     "end_time": "2025-07-07T00:44:35.732532Z",
     "start_time": "2025-07-07T00:44:35.724935Z"
    }
   },
   "cell_type": "code",
   "source": [
    "msk = df_pg_times[c.participant_code].isin(df_all_apps_cln[c.participant_code])\n",
    "\n",
    "df_pg_times_cln = df_pg_times[msk].copy()\n",
    "\n",
    "df_pg_times_cln.shape"
   ],
   "id": "8a8174d89f062ca7",
   "outputs": [
    {
     "data": {
      "text/plain": [
       "(943, 10)"
      ]
     },
     "execution_count": 98,
     "metadata": {},
     "output_type": "execute_result"
    }
   ],
   "execution_count": 98
  },
  {
   "metadata": {
    "ExecuteTime": {
     "end_time": "2025-07-07T00:45:32.275909Z",
     "start_time": "2025-07-07T00:45:32.270181Z"
    }
   },
   "cell_type": "code",
   "source": [
    "# sort on participant.code and page index\n",
    "df_pg_times_cln = df_pg_times_cln.sort_values(by = [c.participant_code ,\n",
    "                                                    c.page_index])"
   ],
   "id": "c428c6b4a6ffce6c",
   "outputs": [],
   "execution_count": 100
  },
  {
   "metadata": {
    "ExecuteTime": {
     "end_time": "2025-07-07T00:46:21.138320Z",
     "start_time": "2025-07-07T00:46:21.055369Z"
    }
   },
   "cell_type": "code",
   "source": [
    "# save the cleaned page times data\n",
    "df_pg_times_cln.to_excel(fp.cln_page_times , index = False)"
   ],
   "id": "13bf9c6f2ef0cdb6",
   "outputs": [],
   "execution_count": 104
  }
 ],
 "metadata": {
  "kernelspec": {
   "display_name": "Python 3",
   "language": "python",
   "name": "python3"
  },
  "language_info": {
   "codemirror_mode": {
    "name": "ipython",
    "version": 2
   },
   "file_extension": ".py",
   "mimetype": "text/x-python",
   "name": "python",
   "nbconvert_exporter": "python",
   "pygments_lexer": "ipython2",
   "version": "2.7.6"
  }
 },
 "nbformat": 4,
 "nbformat_minor": 5
}
